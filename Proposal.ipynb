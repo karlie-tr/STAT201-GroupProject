{
 "cells": [
  {
   "cell_type": "code",
   "execution_count": 3,
   "id": "3dd5fa74-4c42-458d-afba-03a5da8d9d4f",
   "metadata": {},
   "outputs": [],
   "source": [
    "#Test"
   ]
  },
  {
   "cell_type": "code",
   "execution_count": 1,
   "id": "77aa1244-6669-4e2e-be76-225ec78c07b3",
   "metadata": {},
   "outputs": [],
   "source": [
    "#asd"
   ]
  },
  {
   "cell_type": "code",
   "execution_count": null,
   "id": "b8dd1ae2-93ff-4e35-b137-ed850e76f9c7",
   "metadata": {},
   "outputs": [],
   "source": []
  }
 ],
 "metadata": {
  "kernelspec": {
   "display_name": "R",
   "language": "R",
   "name": "ir"
  },
  "language_info": {
   "codemirror_mode": "r",
   "file_extension": ".r",
   "mimetype": "text/x-r-source",
   "name": "R",
   "pygments_lexer": "r",
   "version": "4.1.3"
  }
 },
 "nbformat": 4,
 "nbformat_minor": 5
}
