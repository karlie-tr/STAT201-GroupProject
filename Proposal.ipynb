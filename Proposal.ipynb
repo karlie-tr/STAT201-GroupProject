{
 "cells": [
  {
   "cell_type": "code",
   "execution_count": 1,
   "id": "d17d9e5d-84af-4551-a036-16686b8225f7",
   "metadata": {},
   "outputs": [
    {
     "name": "stderr",
     "output_type": "stream",
     "text": [
      "── \u001b[1mAttaching packages\u001b[22m ─────────────────────────────────────── tidyverse 1.3.2 ──\n",
      "\u001b[32m✔\u001b[39m \u001b[34mggplot2\u001b[39m 3.3.6      \u001b[32m✔\u001b[39m \u001b[34mpurrr  \u001b[39m 0.3.4 \n",
      "\u001b[32m✔\u001b[39m \u001b[34mtibble \u001b[39m 3.1.8      \u001b[32m✔\u001b[39m \u001b[34mdplyr  \u001b[39m 1.0.10\n",
      "\u001b[32m✔\u001b[39m \u001b[34mtidyr  \u001b[39m 1.2.1      \u001b[32m✔\u001b[39m \u001b[34mstringr\u001b[39m 1.4.1 \n",
      "\u001b[32m✔\u001b[39m \u001b[34mreadr  \u001b[39m 2.1.2      \u001b[32m✔\u001b[39m \u001b[34mforcats\u001b[39m 0.5.2 \n",
      "── \u001b[1mConflicts\u001b[22m ────────────────────────────────────────── tidyverse_conflicts() ──\n",
      "\u001b[31m✖\u001b[39m \u001b[34mdplyr\u001b[39m::\u001b[32mfilter()\u001b[39m masks \u001b[34mstats\u001b[39m::filter()\n",
      "\u001b[31m✖\u001b[39m \u001b[34mdplyr\u001b[39m::\u001b[32mlag()\u001b[39m    masks \u001b[34mstats\u001b[39m::lag()\n",
      "── \u001b[1mAttaching packages\u001b[22m ────────────────────────────────────── tidymodels 1.0.0 ──\n",
      "\n",
      "\u001b[32m✔\u001b[39m \u001b[34mbroom       \u001b[39m 1.0.1     \u001b[32m✔\u001b[39m \u001b[34mrsample     \u001b[39m 1.1.0\n",
      "\u001b[32m✔\u001b[39m \u001b[34mdials       \u001b[39m 1.0.0     \u001b[32m✔\u001b[39m \u001b[34mtune        \u001b[39m 1.0.0\n",
      "\u001b[32m✔\u001b[39m \u001b[34minfer       \u001b[39m 1.0.3     \u001b[32m✔\u001b[39m \u001b[34mworkflows   \u001b[39m 1.0.0\n",
      "\u001b[32m✔\u001b[39m \u001b[34mmodeldata   \u001b[39m 1.0.1     \u001b[32m✔\u001b[39m \u001b[34mworkflowsets\u001b[39m 1.0.0\n",
      "\u001b[32m✔\u001b[39m \u001b[34mparsnip     \u001b[39m 1.0.1     \u001b[32m✔\u001b[39m \u001b[34myardstick   \u001b[39m 1.1.0\n",
      "\u001b[32m✔\u001b[39m \u001b[34mrecipes     \u001b[39m 1.0.1     \n",
      "\n",
      "── \u001b[1mConflicts\u001b[22m ───────────────────────────────────────── tidymodels_conflicts() ──\n",
      "\u001b[31m✖\u001b[39m \u001b[34mscales\u001b[39m::\u001b[32mdiscard()\u001b[39m masks \u001b[34mpurrr\u001b[39m::discard()\n",
      "\u001b[31m✖\u001b[39m \u001b[34mdplyr\u001b[39m::\u001b[32mfilter()\u001b[39m   masks \u001b[34mstats\u001b[39m::filter()\n",
      "\u001b[31m✖\u001b[39m \u001b[34mrecipes\u001b[39m::\u001b[32mfixed()\u001b[39m  masks \u001b[34mstringr\u001b[39m::fixed()\n",
      "\u001b[31m✖\u001b[39m \u001b[34mdplyr\u001b[39m::\u001b[32mlag()\u001b[39m      masks \u001b[34mstats\u001b[39m::lag()\n",
      "\u001b[31m✖\u001b[39m \u001b[34myardstick\u001b[39m::\u001b[32mspec()\u001b[39m masks \u001b[34mreadr\u001b[39m::spec()\n",
      "\u001b[31m✖\u001b[39m \u001b[34mrecipes\u001b[39m::\u001b[32mstep()\u001b[39m   masks \u001b[34mstats\u001b[39m::step()\n",
      "\u001b[34m•\u001b[39m Learn how to get started at \u001b[32mhttps://www.tidymodels.org/start/\u001b[39m\n",
      "\n"
     ]
    }
   ],
   "source": [
    "library(repr)\n",
    "library(tidyverse)\n",
    "library(tidymodels)\n",
    "library(RColorBrewer)\n",
    "library(ggplot2)\n",
    "options(repr.matrix.max.rows = 6)\n",
    "\n",
    "set.seed(1234)"
   ]
  },
  {
   "cell_type": "code",
   "execution_count": 2,
   "id": "44293642-95b2-4640-ae9c-a23c41a8ac30",
   "metadata": {},
   "outputs": [
    {
     "name": "stderr",
     "output_type": "stream",
     "text": [
      "\u001b[1mRows: \u001b[22m\u001b[34m1000\u001b[39m \u001b[1mColumns: \u001b[22m\u001b[34m9\u001b[39m\n",
      "\u001b[36m──\u001b[39m \u001b[1mColumn specification\u001b[22m \u001b[36m────────────────────────────────────────────────────────\u001b[39m\n",
      "\u001b[1mDelimiter:\u001b[22m \",\"\n",
      "\u001b[31mchr\u001b[39m (4): JobTitle, Gender, Education, Dept\n",
      "\u001b[32mdbl\u001b[39m (5): Age, PerfEval, Seniority, BasePay, Bonus\n",
      "\n",
      "\u001b[36mℹ\u001b[39m Use `spec()` to retrieve the full column specification for this data.\n",
      "\u001b[36mℹ\u001b[39m Specify the column types or set `show_col_types = FALSE` to quiet this message.\n"
     ]
    },
    {
     "data": {
      "text/html": [
       "<table class=\"dataframe\">\n",
       "<caption>A tibble: 6 × 9</caption>\n",
       "<thead>\n",
       "\t<tr><th scope=col>JobTitle</th><th scope=col>Gender</th><th scope=col>Age</th><th scope=col>PerfEval</th><th scope=col>Education</th><th scope=col>Dept</th><th scope=col>Seniority</th><th scope=col>BasePay</th><th scope=col>Bonus</th></tr>\n",
       "\t<tr><th scope=col>&lt;chr&gt;</th><th scope=col>&lt;chr&gt;</th><th scope=col>&lt;dbl&gt;</th><th scope=col>&lt;dbl&gt;</th><th scope=col>&lt;chr&gt;</th><th scope=col>&lt;chr&gt;</th><th scope=col>&lt;dbl&gt;</th><th scope=col>&lt;dbl&gt;</th><th scope=col>&lt;dbl&gt;</th></tr>\n",
       "</thead>\n",
       "<tbody>\n",
       "\t<tr><td>Graphic Designer   </td><td>Female</td><td>18</td><td>5</td><td>College</td><td>Operations    </td><td>2</td><td> 42363</td><td> 9938</td></tr>\n",
       "\t<tr><td>Software Engineer  </td><td>Male  </td><td>21</td><td>5</td><td>College</td><td>Management    </td><td>5</td><td>108476</td><td>11128</td></tr>\n",
       "\t<tr><td>Warehouse Associate</td><td>Female</td><td>19</td><td>4</td><td>PhD    </td><td>Administration</td><td>5</td><td> 90208</td><td> 9268</td></tr>\n",
       "\t<tr><td>Software Engineer  </td><td>Male  </td><td>20</td><td>5</td><td>Masters</td><td>Sales         </td><td>4</td><td>108080</td><td>10154</td></tr>\n",
       "\t<tr><td>Graphic Designer   </td><td>Male  </td><td>26</td><td>5</td><td>Masters</td><td>Engineering   </td><td>5</td><td> 99464</td><td> 9319</td></tr>\n",
       "\t<tr><td>IT                 </td><td>Female</td><td>20</td><td>5</td><td>PhD    </td><td>Operations    </td><td>4</td><td> 70890</td><td>10126</td></tr>\n",
       "</tbody>\n",
       "</table>\n"
      ],
      "text/latex": [
       "A tibble: 6 × 9\n",
       "\\begin{tabular}{lllllllll}\n",
       " JobTitle & Gender & Age & PerfEval & Education & Dept & Seniority & BasePay & Bonus\\\\\n",
       " <chr> & <chr> & <dbl> & <dbl> & <chr> & <chr> & <dbl> & <dbl> & <dbl>\\\\\n",
       "\\hline\n",
       "\t Graphic Designer    & Female & 18 & 5 & College & Operations     & 2 &  42363 &  9938\\\\\n",
       "\t Software Engineer   & Male   & 21 & 5 & College & Management     & 5 & 108476 & 11128\\\\\n",
       "\t Warehouse Associate & Female & 19 & 4 & PhD     & Administration & 5 &  90208 &  9268\\\\\n",
       "\t Software Engineer   & Male   & 20 & 5 & Masters & Sales          & 4 & 108080 & 10154\\\\\n",
       "\t Graphic Designer    & Male   & 26 & 5 & Masters & Engineering    & 5 &  99464 &  9319\\\\\n",
       "\t IT                  & Female & 20 & 5 & PhD     & Operations     & 4 &  70890 & 10126\\\\\n",
       "\\end{tabular}\n"
      ],
      "text/markdown": [
       "\n",
       "A tibble: 6 × 9\n",
       "\n",
       "| JobTitle &lt;chr&gt; | Gender &lt;chr&gt; | Age &lt;dbl&gt; | PerfEval &lt;dbl&gt; | Education &lt;chr&gt; | Dept &lt;chr&gt; | Seniority &lt;dbl&gt; | BasePay &lt;dbl&gt; | Bonus &lt;dbl&gt; |\n",
       "|---|---|---|---|---|---|---|---|---|\n",
       "| Graphic Designer    | Female | 18 | 5 | College | Operations     | 2 |  42363 |  9938 |\n",
       "| Software Engineer   | Male   | 21 | 5 | College | Management     | 5 | 108476 | 11128 |\n",
       "| Warehouse Associate | Female | 19 | 4 | PhD     | Administration | 5 |  90208 |  9268 |\n",
       "| Software Engineer   | Male   | 20 | 5 | Masters | Sales          | 4 | 108080 | 10154 |\n",
       "| Graphic Designer    | Male   | 26 | 5 | Masters | Engineering    | 5 |  99464 |  9319 |\n",
       "| IT                  | Female | 20 | 5 | PhD     | Operations     | 4 |  70890 | 10126 |\n",
       "\n"
      ],
      "text/plain": [
       "  JobTitle            Gender Age PerfEval Education Dept           Seniority\n",
       "1 Graphic Designer    Female 18  5        College   Operations     2        \n",
       "2 Software Engineer   Male   21  5        College   Management     5        \n",
       "3 Warehouse Associate Female 19  4        PhD       Administration 5        \n",
       "4 Software Engineer   Male   20  5        Masters   Sales          4        \n",
       "5 Graphic Designer    Male   26  5        Masters   Engineering    5        \n",
       "6 IT                  Female 20  5        PhD       Operations     4        \n",
       "  BasePay Bonus\n",
       "1  42363   9938\n",
       "2 108476  11128\n",
       "3  90208   9268\n",
       "4 108080  10154\n",
       "5  99464   9319\n",
       "6  70890  10126"
      ]
     },
     "metadata": {},
     "output_type": "display_data"
    }
   ],
   "source": [
    "url <- \"https://raw.githubusercontent.com/karlie-tr/STAT201-GroupProject/main/glassdoor_salaries.csv\"\n",
    "untidy_salary_data <- read_csv(url)\n",
    "head(untidy_salary_data)"
   ]
  },
  {
   "cell_type": "code",
   "execution_count": null,
   "id": "82cda56f-e7ff-4420-962c-1ff43960e624",
   "metadata": {},
   "outputs": [],
   "source": []
  }
 ],
 "metadata": {
  "kernelspec": {
   "display_name": "R",
   "language": "R",
   "name": "ir"
  },
  "language_info": {
   "codemirror_mode": "r",
   "file_extension": ".r",
   "mimetype": "text/x-r-source",
   "name": "R",
   "pygments_lexer": "r",
   "version": "4.1.3"
  }
 },
 "nbformat": 4,
 "nbformat_minor": 5
}
